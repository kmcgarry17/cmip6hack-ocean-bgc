{
 "cells": [
  {
   "cell_type": "markdown",
   "metadata": {},
   "source": [
    "# Test script for NPP data\n",
    "\n",
    "Hilary Palevsky's update of the Hello World example notebook with documentation on how to access CMIP data."
   ]
  },
  {
   "cell_type": "code",
   "execution_count": 24,
   "metadata": {},
   "outputs": [],
   "source": [
    "%matplotlib inline\n",
    "\n",
    "import xarray as xr\n",
    "import intake\n",
    "\n",
    "# util.py is in the local directory\n",
    "# it contains code that is common across project notebooks\n",
    "# or routines that are too extensive and might otherwise clutter\n",
    "# the notebook design\n",
    "import util \n",
    "\n",
    "import numpy as np\n",
    "import matplotlib.pyplot as plt"
   ]
  },
  {
   "cell_type": "markdown",
   "metadata": {},
   "source": [
    "## Demonstrate how to use `intake-esm`\n",
    "[Intake-esm](https://intake-esm.readthedocs.io) is a data cataloging utility that facilitates access to CMIP data. It's pretty awesome.\n",
    "\n",
    "An `intake-esm` collection object establishes a link to a database that contains file locations and associated metadata (i.e. which experiement, model, etc. thet come from). \n",
    "\n",
    "### Opening a collection\n",
    "First step is to open a collection by pointing to the collection definition file, which is a JSON file that conforms to the [ESM Collection Specification](https://github.com/NCAR/esm-collection-spec). \n",
    "\n",
    "The collection JSON files are stored locally in this repository for purposes of reproducibility---and because Cheyenne compute nodes don't have Internet access. \n",
    "\n",
    "The primary source for these files is the [intake-esm-datastore](https://github.com/NCAR/intake-esm-datastore) repository. Any changes made to these files should be pulled from that repo. For instance, the Pangeo cloud collection is available [here](https://raw.githubusercontent.com/NCAR/intake-esm-datastore/master/catalogs/pangeo-cmip6.json)."
   ]
  },
  {
   "cell_type": "code",
   "execution_count": 2,
   "metadata": {},
   "outputs": [
    {
     "data": {
      "text/plain": [
       "glade-cmip6-ESM Collection with 687919 entries:\n",
       "\t> 12 activity_id(s)\n",
       "\n",
       "\t> 24 institution_id(s)\n",
       "\n",
       "\t> 47 source_id(s)\n",
       "\n",
       "\t> 66 experiment_id(s)\n",
       "\n",
       "\t> 162 member_id(s)\n",
       "\n",
       "\t> 35 table_id(s)\n",
       "\n",
       "\t> 1027 variable_id(s)\n",
       "\n",
       "\t> 12 grid_label(s)\n",
       "\n",
       "\t> 59 dcpp_init_year(s)\n",
       "\n",
       "\t> 246 version(s)\n",
       "\n",
       "\t> 6667 time_range(s)\n",
       "\n",
       "\t> 687919 path(s)"
      ]
     },
     "execution_count": 2,
     "metadata": {},
     "output_type": "execute_result"
    }
   ],
   "source": [
    "# This if/else is kept to maintain inter-operability across the different cloud platforms\n",
    "if util.is_ncar_host():\n",
    "    col = intake.open_esm_datastore(\"../catalogs/glade-cmip6.json\")\n",
    "else:\n",
    "    col = intake.open_esm_datastore(\"../catalogs/pangeo-cmip6.json\")\n",
    "col"
   ]
  },
  {
   "cell_type": "markdown",
   "metadata": {},
   "source": [
    "`intake-esm` is build on top of [pandas](https://pandas.pydata.org/pandas-docs/stable). It is possible to view the `pandas.DataFrame` as follows."
   ]
  },
  {
   "cell_type": "code",
   "execution_count": 3,
   "metadata": {},
   "outputs": [
    {
     "data": {
      "text/html": [
       "<div>\n",
       "<style scoped>\n",
       "    .dataframe tbody tr th:only-of-type {\n",
       "        vertical-align: middle;\n",
       "    }\n",
       "\n",
       "    .dataframe tbody tr th {\n",
       "        vertical-align: top;\n",
       "    }\n",
       "\n",
       "    .dataframe thead th {\n",
       "        text-align: right;\n",
       "    }\n",
       "</style>\n",
       "<table border=\"1\" class=\"dataframe\">\n",
       "  <thead>\n",
       "    <tr style=\"text-align: right;\">\n",
       "      <th></th>\n",
       "      <th>activity_id</th>\n",
       "      <th>institution_id</th>\n",
       "      <th>source_id</th>\n",
       "      <th>experiment_id</th>\n",
       "      <th>member_id</th>\n",
       "      <th>table_id</th>\n",
       "      <th>variable_id</th>\n",
       "      <th>grid_label</th>\n",
       "      <th>dcpp_init_year</th>\n",
       "      <th>version</th>\n",
       "      <th>time_range</th>\n",
       "      <th>path</th>\n",
       "    </tr>\n",
       "  </thead>\n",
       "  <tbody>\n",
       "    <tr>\n",
       "      <td>0</td>\n",
       "      <td>AerChemMIP</td>\n",
       "      <td>BCC</td>\n",
       "      <td>BCC-ESM1</td>\n",
       "      <td>ssp370</td>\n",
       "      <td>r2i1p1f1</td>\n",
       "      <td>day</td>\n",
       "      <td>pr</td>\n",
       "      <td>gn</td>\n",
       "      <td>NaN</td>\n",
       "      <td>v20190702</td>\n",
       "      <td>20150101-20551231</td>\n",
       "      <td>/glade/collections/cmip/CMIP6/AerChemMIP/BCC/B...</td>\n",
       "    </tr>\n",
       "    <tr>\n",
       "      <td>1</td>\n",
       "      <td>AerChemMIP</td>\n",
       "      <td>BCC</td>\n",
       "      <td>BCC-ESM1</td>\n",
       "      <td>ssp370</td>\n",
       "      <td>r2i1p1f1</td>\n",
       "      <td>Amon</td>\n",
       "      <td>hfls</td>\n",
       "      <td>gn</td>\n",
       "      <td>NaN</td>\n",
       "      <td>v20190624</td>\n",
       "      <td>201501-205512</td>\n",
       "      <td>/glade/collections/cmip/CMIP6/AerChemMIP/BCC/B...</td>\n",
       "    </tr>\n",
       "    <tr>\n",
       "      <td>2</td>\n",
       "      <td>AerChemMIP</td>\n",
       "      <td>BCC</td>\n",
       "      <td>BCC-ESM1</td>\n",
       "      <td>ssp370</td>\n",
       "      <td>r2i1p1f1</td>\n",
       "      <td>Amon</td>\n",
       "      <td>prsn</td>\n",
       "      <td>gn</td>\n",
       "      <td>NaN</td>\n",
       "      <td>v20190624</td>\n",
       "      <td>201501-205512</td>\n",
       "      <td>/glade/collections/cmip/CMIP6/AerChemMIP/BCC/B...</td>\n",
       "    </tr>\n",
       "    <tr>\n",
       "      <td>3</td>\n",
       "      <td>AerChemMIP</td>\n",
       "      <td>BCC</td>\n",
       "      <td>BCC-ESM1</td>\n",
       "      <td>ssp370</td>\n",
       "      <td>r2i1p1f1</td>\n",
       "      <td>Amon</td>\n",
       "      <td>va</td>\n",
       "      <td>gn</td>\n",
       "      <td>NaN</td>\n",
       "      <td>v20190624</td>\n",
       "      <td>201501-205512</td>\n",
       "      <td>/glade/collections/cmip/CMIP6/AerChemMIP/BCC/B...</td>\n",
       "    </tr>\n",
       "    <tr>\n",
       "      <td>4</td>\n",
       "      <td>AerChemMIP</td>\n",
       "      <td>BCC</td>\n",
       "      <td>BCC-ESM1</td>\n",
       "      <td>ssp370</td>\n",
       "      <td>r2i1p1f1</td>\n",
       "      <td>Amon</td>\n",
       "      <td>tas</td>\n",
       "      <td>gn</td>\n",
       "      <td>NaN</td>\n",
       "      <td>v20190624</td>\n",
       "      <td>201501-205512</td>\n",
       "      <td>/glade/collections/cmip/CMIP6/AerChemMIP/BCC/B...</td>\n",
       "    </tr>\n",
       "  </tbody>\n",
       "</table>\n",
       "</div>"
      ],
      "text/plain": [
       "  activity_id institution_id source_id experiment_id member_id table_id  \\\n",
       "0  AerChemMIP            BCC  BCC-ESM1        ssp370  r2i1p1f1      day   \n",
       "1  AerChemMIP            BCC  BCC-ESM1        ssp370  r2i1p1f1     Amon   \n",
       "2  AerChemMIP            BCC  BCC-ESM1        ssp370  r2i1p1f1     Amon   \n",
       "3  AerChemMIP            BCC  BCC-ESM1        ssp370  r2i1p1f1     Amon   \n",
       "4  AerChemMIP            BCC  BCC-ESM1        ssp370  r2i1p1f1     Amon   \n",
       "\n",
       "  variable_id grid_label  dcpp_init_year    version         time_range  \\\n",
       "0          pr         gn             NaN  v20190702  20150101-20551231   \n",
       "1        hfls         gn             NaN  v20190624      201501-205512   \n",
       "2        prsn         gn             NaN  v20190624      201501-205512   \n",
       "3          va         gn             NaN  v20190624      201501-205512   \n",
       "4         tas         gn             NaN  v20190624      201501-205512   \n",
       "\n",
       "                                                path  \n",
       "0  /glade/collections/cmip/CMIP6/AerChemMIP/BCC/B...  \n",
       "1  /glade/collections/cmip/CMIP6/AerChemMIP/BCC/B...  \n",
       "2  /glade/collections/cmip/CMIP6/AerChemMIP/BCC/B...  \n",
       "3  /glade/collections/cmip/CMIP6/AerChemMIP/BCC/B...  \n",
       "4  /glade/collections/cmip/CMIP6/AerChemMIP/BCC/B...  "
      ]
     },
     "execution_count": 3,
     "metadata": {},
     "output_type": "execute_result"
    }
   ],
   "source": [
    "col.df.head()"
   ]
  },
  {
   "cell_type": "markdown",
   "metadata": {},
   "source": [
    "It is possible to interact with the `DataFrame`; for instance, we can see what the \"attributes\" of the datasets are by printing the columns."
   ]
  },
  {
   "cell_type": "code",
   "execution_count": 4,
   "metadata": {},
   "outputs": [
    {
     "data": {
      "text/plain": [
       "Index(['activity_id', 'institution_id', 'source_id', 'experiment_id',\n",
       "       'member_id', 'table_id', 'variable_id', 'grid_label', 'dcpp_init_year',\n",
       "       'version', 'time_range', 'path'],\n",
       "      dtype='object')"
      ]
     },
     "execution_count": 4,
     "metadata": {},
     "output_type": "execute_result"
    }
   ],
   "source": [
    "col.df.columns"
   ]
  },
  {
   "cell_type": "markdown",
   "metadata": {},
   "source": [
    "### Search and discovery\n",
    "\n",
    "#### Finding unique entries\n",
    "Let's query the data to see what models (\"source_id\"), experiments (\"experiment_id\") and temporal frequencies (\"table_id\") are available."
   ]
  },
  {
   "cell_type": "code",
   "execution_count": 5,
   "metadata": {},
   "outputs": [
    {
     "name": "stdout",
     "output_type": "stream",
     "text": [
      "{'experiment_id': {'count': 66,\n",
      "                   'values': ['ssp370', 'histSST-piNTCF', 'histSST',\n",
      "                              'histSST-1950HC', 'hist-1950HC', 'hist-piNTCF',\n",
      "                              'piClim-NTCF', 'ssp370SST-lowNTCF',\n",
      "                              'ssp370-lowNTCF', 'ssp370SST', 'hist-bgc',\n",
      "                              'esm-ssp585', 'amip-future4K', 'amip-m4K',\n",
      "                              'a4SST', 'aqua-p4K', 'piSST', 'amip-4xCO2',\n",
      "                              'a4SSTice', 'amip-p4K', 'aqua-control',\n",
      "                              'aqua-4xCO2', 'abrupt-4xCO2', 'historical',\n",
      "                              'piControl', 'amip', '1pctCO2', 'esm-piControl',\n",
      "                              'esm-hist', 'ssp245', 'ssp585', 'ssp126',\n",
      "                              'hist-GHG', 'hist-aer', 'dcppA-hindcast',\n",
      "                              'dcppC-hindcast-noPinatubo',\n",
      "                              'dcppC-hindcast-noElChichon', 'dcppA-assim',\n",
      "                              'dcppC-hindcast-noAgung', 'hist-1950',\n",
      "                              'highresSST-present', 'control-1950',\n",
      "                              'land-hist-princeton', 'land-hist-cruNcep',\n",
      "                              'land-hist', 'deforest-globe',\n",
      "                              'esm-ssp585-ssp126Lu', 'land-cCO2', 'hist-noLu',\n",
      "                              'land-crop-noFert', 'ssp370-ssp126Lu',\n",
      "                              'ssp126-ssp370Lu', 'land-noLu', 'land-noFire',\n",
      "                              'land-hist-altStartYear', 'land-cClim', 'omip1',\n",
      "                              'pdSST-piAntSIC', 'pdSST-futAntSIC',\n",
      "                              'pdSST-pdSIC', 'pdSST-piArcSIC',\n",
      "                              'pdSST-futArcSIC', 'ssp119', 'ssp434', 'ssp460',\n",
      "                              'ssp534-over']},\n",
      " 'source_id': {'count': 47,\n",
      "               'values': ['BCC-ESM1', 'CESM2-WACCM', 'CESM2', 'CNRM-ESM2-1',\n",
      "                          'BCC-CSM2-MR', 'UKESM1-0-LL', 'GFDL-ESM4',\n",
      "                          'GISS-E2-1-G', 'CanESM5', 'CNRM-CM6-1', 'FGOALS-f3-L',\n",
      "                          'FGOALS-g3', 'SAM0-UNICON', 'HadGEM3-GC31-LL',\n",
      "                          'HadGEM3-GC31-MM', 'AWI-CM-1-1-MR', 'GFDL-AM4',\n",
      "                          'GFDL-CM4', 'GISS-E2-1-H', 'E3SM-1-0', 'CAMS-CSM1-0',\n",
      "                          'MCM-UA-1-0', 'EC-Earth3-LR', 'EC-Earth3',\n",
      "                          'EC-Earth3-Veg', 'MRI-ESM2-0', 'NESM3', 'MIROC-ES2L',\n",
      "                          'MIROC6', 'IPSL-CM6A-LR', 'NorCPM1', 'NorESM2-LM',\n",
      "                          'FIO-ESM-2-0', 'CNRM-CM6-1-HR', 'FGOALS-f3-H',\n",
      "                          'HadGEM3-GC31-HM', 'HadGEM3-GC31-LM', 'GFDL-CM4C192',\n",
      "                          'ECMWF-IFS-LR', 'ECMWF-IFS-HR', 'CMCC-CM2-VHR4',\n",
      "                          'CMCC-CM2-HR4', 'NICAM16-7S', 'NICAM16-8S',\n",
      "                          'NICAM16-9S', 'IPSL-CM6A-ATM-HR', 'MPI-ESM1-2-HR']},\n",
      " 'table_id': {'count': 35,\n",
      "              'values': ['day', 'Amon', 'AERmonZ', 'CFmon', 'EdayZ', 'Eday',\n",
      "                         'CFday', 'EmonZ', 'AERday', 'Emon', 'fx', 'Lmon',\n",
      "                         'AERmon', 'Ofx', 'Omon', 'SImon', 'Oyr', 'AERhr',\n",
      "                         'Eyr', 'LImon', 'SIday', '6hrPlev', 'CFsubhr',\n",
      "                         '6hrLev', 'Oday', 'ImonGre', 'ImonAnt', 'Efx',\n",
      "                         'IfxGre', '3hr', '6hrPlevPt', 'E1hr', 'E3hr', 'Oclim',\n",
      "                         'CF3hr']}}\n"
     ]
    }
   ],
   "source": [
    "import pprint \n",
    "uni_dict = col.unique(['source_id', 'experiment_id', 'table_id'])\n",
    "pprint.pprint(uni_dict, compact=True)"
   ]
  },
  {
   "cell_type": "markdown",
   "metadata": {},
   "source": [
    "#### Searching for specific datasets\n",
    "\n",
    "Let's find all the integrated primary productivity (intpp) at monthly frequency (Omon) from the ocean for the `historical` and `ssp585` experiments. Note that data are currently available only at monthly, not at annual frequency."
   ]
  },
  {
   "cell_type": "code",
   "execution_count": 6,
   "metadata": {},
   "outputs": [
    {
     "data": {
      "text/html": [
       "<div>\n",
       "<style scoped>\n",
       "    .dataframe tbody tr th:only-of-type {\n",
       "        vertical-align: middle;\n",
       "    }\n",
       "\n",
       "    .dataframe tbody tr th {\n",
       "        vertical-align: top;\n",
       "    }\n",
       "\n",
       "    .dataframe thead th {\n",
       "        text-align: right;\n",
       "    }\n",
       "</style>\n",
       "<table border=\"1\" class=\"dataframe\">\n",
       "  <thead>\n",
       "    <tr style=\"text-align: right;\">\n",
       "      <th></th>\n",
       "      <th>activity_id</th>\n",
       "      <th>institution_id</th>\n",
       "      <th>source_id</th>\n",
       "      <th>experiment_id</th>\n",
       "      <th>member_id</th>\n",
       "      <th>table_id</th>\n",
       "      <th>variable_id</th>\n",
       "      <th>grid_label</th>\n",
       "      <th>dcpp_init_year</th>\n",
       "      <th>version</th>\n",
       "      <th>time_range</th>\n",
       "      <th>path</th>\n",
       "    </tr>\n",
       "  </thead>\n",
       "  <tbody>\n",
       "    <tr>\n",
       "      <td>23905</td>\n",
       "      <td>CMIP</td>\n",
       "      <td>CNRM-CERFACS</td>\n",
       "      <td>CNRM-ESM2-1</td>\n",
       "      <td>historical</td>\n",
       "      <td>r3i1p1f2</td>\n",
       "      <td>Omon</td>\n",
       "      <td>intpp</td>\n",
       "      <td>gn</td>\n",
       "      <td>NaN</td>\n",
       "      <td>v20190125</td>\n",
       "      <td>185001-201412</td>\n",
       "      <td>/glade/collections/cmip/CMIP6/CMIP/CNRM-CERFAC...</td>\n",
       "    </tr>\n",
       "    <tr>\n",
       "      <td>24643</td>\n",
       "      <td>CMIP</td>\n",
       "      <td>CNRM-CERFACS</td>\n",
       "      <td>CNRM-ESM2-1</td>\n",
       "      <td>historical</td>\n",
       "      <td>r4i1p1f2</td>\n",
       "      <td>Omon</td>\n",
       "      <td>intpp</td>\n",
       "      <td>gn</td>\n",
       "      <td>NaN</td>\n",
       "      <td>v20190125</td>\n",
       "      <td>185001-201412</td>\n",
       "      <td>/glade/collections/cmip/CMIP6/CMIP/CNRM-CERFAC...</td>\n",
       "    </tr>\n",
       "    <tr>\n",
       "      <td>25379</td>\n",
       "      <td>CMIP</td>\n",
       "      <td>CNRM-CERFACS</td>\n",
       "      <td>CNRM-ESM2-1</td>\n",
       "      <td>historical</td>\n",
       "      <td>r1i1p1f2</td>\n",
       "      <td>Omon</td>\n",
       "      <td>intpp</td>\n",
       "      <td>gn</td>\n",
       "      <td>NaN</td>\n",
       "      <td>v20181206</td>\n",
       "      <td>185001-201412</td>\n",
       "      <td>/glade/collections/cmip/CMIP6/CMIP/CNRM-CERFAC...</td>\n",
       "    </tr>\n",
       "    <tr>\n",
       "      <td>26216</td>\n",
       "      <td>CMIP</td>\n",
       "      <td>CNRM-CERFACS</td>\n",
       "      <td>CNRM-ESM2-1</td>\n",
       "      <td>historical</td>\n",
       "      <td>r5i1p1f2</td>\n",
       "      <td>Omon</td>\n",
       "      <td>intpp</td>\n",
       "      <td>gn</td>\n",
       "      <td>NaN</td>\n",
       "      <td>v20190125</td>\n",
       "      <td>185001-201412</td>\n",
       "      <td>/glade/collections/cmip/CMIP6/CMIP/CNRM-CERFAC...</td>\n",
       "    </tr>\n",
       "    <tr>\n",
       "      <td>26911</td>\n",
       "      <td>CMIP</td>\n",
       "      <td>CNRM-CERFACS</td>\n",
       "      <td>CNRM-ESM2-1</td>\n",
       "      <td>historical</td>\n",
       "      <td>r2i1p1f2</td>\n",
       "      <td>Omon</td>\n",
       "      <td>intpp</td>\n",
       "      <td>gn</td>\n",
       "      <td>NaN</td>\n",
       "      <td>v20190125</td>\n",
       "      <td>185001-201412</td>\n",
       "      <td>/glade/collections/cmip/CMIP6/CMIP/CNRM-CERFAC...</td>\n",
       "    </tr>\n",
       "    <tr>\n",
       "      <td>...</td>\n",
       "      <td>...</td>\n",
       "      <td>...</td>\n",
       "      <td>...</td>\n",
       "      <td>...</td>\n",
       "      <td>...</td>\n",
       "      <td>...</td>\n",
       "      <td>...</td>\n",
       "      <td>...</td>\n",
       "      <td>...</td>\n",
       "      <td>...</td>\n",
       "      <td>...</td>\n",
       "      <td>...</td>\n",
       "    </tr>\n",
       "    <tr>\n",
       "      <td>640543</td>\n",
       "      <td>ScenarioMIP</td>\n",
       "      <td>DKRZ</td>\n",
       "      <td>MPI-ESM1-2-HR</td>\n",
       "      <td>ssp585</td>\n",
       "      <td>r1i1p1f1</td>\n",
       "      <td>Omon</td>\n",
       "      <td>intpp</td>\n",
       "      <td>gn</td>\n",
       "      <td>NaN</td>\n",
       "      <td>v20190710</td>\n",
       "      <td>206001-206412</td>\n",
       "      <td>/glade/collections/cmip/CMIP6/ScenarioMIP/DKRZ...</td>\n",
       "    </tr>\n",
       "    <tr>\n",
       "      <td>640544</td>\n",
       "      <td>ScenarioMIP</td>\n",
       "      <td>DKRZ</td>\n",
       "      <td>MPI-ESM1-2-HR</td>\n",
       "      <td>ssp585</td>\n",
       "      <td>r1i1p1f1</td>\n",
       "      <td>Omon</td>\n",
       "      <td>intpp</td>\n",
       "      <td>gn</td>\n",
       "      <td>NaN</td>\n",
       "      <td>v20190710</td>\n",
       "      <td>207001-207412</td>\n",
       "      <td>/glade/collections/cmip/CMIP6/ScenarioMIP/DKRZ...</td>\n",
       "    </tr>\n",
       "    <tr>\n",
       "      <td>640545</td>\n",
       "      <td>ScenarioMIP</td>\n",
       "      <td>DKRZ</td>\n",
       "      <td>MPI-ESM1-2-HR</td>\n",
       "      <td>ssp585</td>\n",
       "      <td>r1i1p1f1</td>\n",
       "      <td>Omon</td>\n",
       "      <td>intpp</td>\n",
       "      <td>gn</td>\n",
       "      <td>NaN</td>\n",
       "      <td>v20190710</td>\n",
       "      <td>210001-210012</td>\n",
       "      <td>/glade/collections/cmip/CMIP6/ScenarioMIP/DKRZ...</td>\n",
       "    </tr>\n",
       "    <tr>\n",
       "      <td>640546</td>\n",
       "      <td>ScenarioMIP</td>\n",
       "      <td>DKRZ</td>\n",
       "      <td>MPI-ESM1-2-HR</td>\n",
       "      <td>ssp585</td>\n",
       "      <td>r1i1p1f1</td>\n",
       "      <td>Omon</td>\n",
       "      <td>intpp</td>\n",
       "      <td>gn</td>\n",
       "      <td>NaN</td>\n",
       "      <td>v20190710</td>\n",
       "      <td>208501-208912</td>\n",
       "      <td>/glade/collections/cmip/CMIP6/ScenarioMIP/DKRZ...</td>\n",
       "    </tr>\n",
       "    <tr>\n",
       "      <td>687642</td>\n",
       "      <td>ScenarioMIP</td>\n",
       "      <td>IPSL</td>\n",
       "      <td>IPSL-CM6A-LR</td>\n",
       "      <td>ssp585</td>\n",
       "      <td>r1i1p1f1</td>\n",
       "      <td>Omon</td>\n",
       "      <td>intpp</td>\n",
       "      <td>gn</td>\n",
       "      <td>NaN</td>\n",
       "      <td>v20190119</td>\n",
       "      <td>201501-210012</td>\n",
       "      <td>/glade/collections/cmip/CMIP6/ScenarioMIP/IPSL...</td>\n",
       "    </tr>\n",
       "  </tbody>\n",
       "</table>\n",
       "<p>104 rows × 12 columns</p>\n",
       "</div>"
      ],
      "text/plain": [
       "        activity_id institution_id      source_id experiment_id member_id  \\\n",
       "23905          CMIP   CNRM-CERFACS    CNRM-ESM2-1    historical  r3i1p1f2   \n",
       "24643          CMIP   CNRM-CERFACS    CNRM-ESM2-1    historical  r4i1p1f2   \n",
       "25379          CMIP   CNRM-CERFACS    CNRM-ESM2-1    historical  r1i1p1f2   \n",
       "26216          CMIP   CNRM-CERFACS    CNRM-ESM2-1    historical  r5i1p1f2   \n",
       "26911          CMIP   CNRM-CERFACS    CNRM-ESM2-1    historical  r2i1p1f2   \n",
       "...             ...            ...            ...           ...       ...   \n",
       "640543  ScenarioMIP           DKRZ  MPI-ESM1-2-HR        ssp585  r1i1p1f1   \n",
       "640544  ScenarioMIP           DKRZ  MPI-ESM1-2-HR        ssp585  r1i1p1f1   \n",
       "640545  ScenarioMIP           DKRZ  MPI-ESM1-2-HR        ssp585  r1i1p1f1   \n",
       "640546  ScenarioMIP           DKRZ  MPI-ESM1-2-HR        ssp585  r1i1p1f1   \n",
       "687642  ScenarioMIP           IPSL   IPSL-CM6A-LR        ssp585  r1i1p1f1   \n",
       "\n",
       "       table_id variable_id grid_label  dcpp_init_year    version  \\\n",
       "23905      Omon       intpp         gn             NaN  v20190125   \n",
       "24643      Omon       intpp         gn             NaN  v20190125   \n",
       "25379      Omon       intpp         gn             NaN  v20181206   \n",
       "26216      Omon       intpp         gn             NaN  v20190125   \n",
       "26911      Omon       intpp         gn             NaN  v20190125   \n",
       "...         ...         ...        ...             ...        ...   \n",
       "640543     Omon       intpp         gn             NaN  v20190710   \n",
       "640544     Omon       intpp         gn             NaN  v20190710   \n",
       "640545     Omon       intpp         gn             NaN  v20190710   \n",
       "640546     Omon       intpp         gn             NaN  v20190710   \n",
       "687642     Omon       intpp         gn             NaN  v20190119   \n",
       "\n",
       "           time_range                                               path  \n",
       "23905   185001-201412  /glade/collections/cmip/CMIP6/CMIP/CNRM-CERFAC...  \n",
       "24643   185001-201412  /glade/collections/cmip/CMIP6/CMIP/CNRM-CERFAC...  \n",
       "25379   185001-201412  /glade/collections/cmip/CMIP6/CMIP/CNRM-CERFAC...  \n",
       "26216   185001-201412  /glade/collections/cmip/CMIP6/CMIP/CNRM-CERFAC...  \n",
       "26911   185001-201412  /glade/collections/cmip/CMIP6/CMIP/CNRM-CERFAC...  \n",
       "...               ...                                                ...  \n",
       "640543  206001-206412  /glade/collections/cmip/CMIP6/ScenarioMIP/DKRZ...  \n",
       "640544  207001-207412  /glade/collections/cmip/CMIP6/ScenarioMIP/DKRZ...  \n",
       "640545  210001-210012  /glade/collections/cmip/CMIP6/ScenarioMIP/DKRZ...  \n",
       "640546  208501-208912  /glade/collections/cmip/CMIP6/ScenarioMIP/DKRZ...  \n",
       "687642  201501-210012  /glade/collections/cmip/CMIP6/ScenarioMIP/IPSL...  \n",
       "\n",
       "[104 rows x 12 columns]"
      ]
     },
     "execution_count": 6,
     "metadata": {},
     "output_type": "execute_result"
    }
   ],
   "source": [
    "cat = col.search(experiment_id=['historical', 'ssp585'], table_id='Omon', variable_id='intpp', grid_label='gn')\n",
    "cat.df"
   ]
  },
  {
   "cell_type": "markdown",
   "metadata": {},
   "source": [
    "It might be desirable to get more specific. For instance, we may want to select only the models that have *both* `historical` and `ssp585` data. We coud do this as follows."
   ]
  },
  {
   "cell_type": "code",
   "execution_count": 7,
   "metadata": {},
   "outputs": [
    {
     "data": {
      "text/plain": [
       "['UKESM1-0-LL', 'CNRM-ESM2-1', 'IPSL-CM6A-LR']"
      ]
     },
     "execution_count": 7,
     "metadata": {},
     "output_type": "execute_result"
    }
   ],
   "source": [
    "models = set(uni_dict['source_id']['values']) # all the models\n",
    "\n",
    "for experiment_id in ['historical', 'ssp585']:\n",
    "    query = dict(experiment_id=experiment_id, table_id='Omon', \n",
    "                 variable_id='intpp', grid_label='gn')  \n",
    "    cat = col.search(**query)\n",
    "    models = models.intersection({model for model in cat.df.source_id.unique().tolist()})\n",
    "\n",
    "# ensure the CESM2 models are not included when working with oxygen data - otherwise this line is not needed\n",
    "#models = models - {'CESM2-WACCM', 'CESM2'}\n",
    "\n",
    "models = list(models)\n",
    "models"
   ]
  },
  {
   "cell_type": "code",
   "execution_count": 8,
   "metadata": {},
   "outputs": [
    {
     "data": {
      "text/html": [
       "<div>\n",
       "<style scoped>\n",
       "    .dataframe tbody tr th:only-of-type {\n",
       "        vertical-align: middle;\n",
       "    }\n",
       "\n",
       "    .dataframe tbody tr th {\n",
       "        vertical-align: top;\n",
       "    }\n",
       "\n",
       "    .dataframe thead th {\n",
       "        text-align: right;\n",
       "    }\n",
       "</style>\n",
       "<table border=\"1\" class=\"dataframe\">\n",
       "  <thead>\n",
       "    <tr style=\"text-align: right;\">\n",
       "      <th></th>\n",
       "      <th>activity_id</th>\n",
       "      <th>institution_id</th>\n",
       "      <th>source_id</th>\n",
       "      <th>experiment_id</th>\n",
       "      <th>member_id</th>\n",
       "      <th>table_id</th>\n",
       "      <th>variable_id</th>\n",
       "      <th>grid_label</th>\n",
       "      <th>dcpp_init_year</th>\n",
       "      <th>version</th>\n",
       "      <th>time_range</th>\n",
       "      <th>path</th>\n",
       "    </tr>\n",
       "  </thead>\n",
       "  <tbody>\n",
       "    <tr>\n",
       "      <td>535414</td>\n",
       "      <td>CMIP</td>\n",
       "      <td>IPSL</td>\n",
       "      <td>IPSL-CM6A-LR</td>\n",
       "      <td>historical</td>\n",
       "      <td>r1i1p1f1</td>\n",
       "      <td>Omon</td>\n",
       "      <td>intpp</td>\n",
       "      <td>gn</td>\n",
       "      <td>NaN</td>\n",
       "      <td>v20180803</td>\n",
       "      <td>185001-201412</td>\n",
       "      <td>/glade/collections/cmip/CMIP6/CMIP/IPSL/IPSL-C...</td>\n",
       "    </tr>\n",
       "    <tr>\n",
       "      <td>687642</td>\n",
       "      <td>ScenarioMIP</td>\n",
       "      <td>IPSL</td>\n",
       "      <td>IPSL-CM6A-LR</td>\n",
       "      <td>ssp585</td>\n",
       "      <td>r1i1p1f1</td>\n",
       "      <td>Omon</td>\n",
       "      <td>intpp</td>\n",
       "      <td>gn</td>\n",
       "      <td>NaN</td>\n",
       "      <td>v20190119</td>\n",
       "      <td>201501-210012</td>\n",
       "      <td>/glade/collections/cmip/CMIP6/ScenarioMIP/IPSL...</td>\n",
       "    </tr>\n",
       "  </tbody>\n",
       "</table>\n",
       "</div>"
      ],
      "text/plain": [
       "        activity_id institution_id     source_id experiment_id member_id  \\\n",
       "535414         CMIP           IPSL  IPSL-CM6A-LR    historical  r1i1p1f1   \n",
       "687642  ScenarioMIP           IPSL  IPSL-CM6A-LR        ssp585  r1i1p1f1   \n",
       "\n",
       "       table_id variable_id grid_label  dcpp_init_year    version  \\\n",
       "535414     Omon       intpp         gn             NaN  v20180803   \n",
       "687642     Omon       intpp         gn             NaN  v20190119   \n",
       "\n",
       "           time_range                                               path  \n",
       "535414  185001-201412  /glade/collections/cmip/CMIP6/CMIP/IPSL/IPSL-C...  \n",
       "687642  201501-210012  /glade/collections/cmip/CMIP6/ScenarioMIP/IPSL...  "
      ]
     },
     "execution_count": 8,
     "metadata": {},
     "output_type": "execute_result"
    }
   ],
   "source": [
    "#Edited from the original hello_world code to specify the ensemble member id (think this is the first one, based on conversation with Andrea)\n",
    "# Note that this excludes models that don't have this member id - future work would calculate the ensemble mean for each model & scenario so as to not lose usable output\n",
    "cat = col.search(experiment_id=['historical', 'ssp585'], table_id='Omon', member_id = 'r1i1p1f1', \n",
    "                 variable_id='intpp', grid_label='gn', source_id=models)\n",
    "cat.df\n",
    "\n",
    "# "
   ]
  },
  {
   "cell_type": "markdown",
   "metadata": {},
   "source": [
    "### Loading data\n",
    "\n",
    "`intake-esm` enables loading data directly into an [xarray.Dataset](http://xarray.pydata.org/en/stable/api.html#dataset).\n",
    "\n",
    "Note that data on the cloud are in \n",
    "[zarr](https://zarr.readthedocs.io/en/stable/) format and data on \n",
    "[glade](https://www2.cisl.ucar.edu/resources/storage-and-file-systems/glade-file-spaces) are stored as \n",
    "[netCDF](https://www.unidata.ucar.edu/software/netcdf/) files. This is opaque to the user.\n",
    "\n",
    "`intake-esm` has rules for aggegating datasets; these rules are defined in the collection-specification file."
   ]
  },
  {
   "cell_type": "code",
   "execution_count": 9,
   "metadata": {},
   "outputs": [
    {
     "name": "stdout",
     "output_type": "stream",
     "text": [
      "\n",
      "xarray will load netCDF datasets with dask using a single chunk for all arrays.\n",
      "For effective chunking, please provide chunks in cdf_kwargs.\n",
      "For example: cdf_kwargs={'chunks': {'time': 36}}\n",
      "\n",
      "--> The keys in the returned dictionary of datasets are constructed as follows:\n",
      "\t'activity_id.institution_id.source_id.experiment_id.table_id.grid_label'\n",
      "\n",
      "--> There will be 2 group(s)\n"
     ]
    }
   ],
   "source": [
    "dset_dict = cat.to_dataset_dict(zarr_kwargs={'consolidated': True, 'decode_times': False}, \n",
    "                                cdf_kwargs={'chunks': {}, 'decode_times': False})"
   ]
  },
  {
   "cell_type": "markdown",
   "metadata": {},
   "source": [
    "`dset_dict` is a dictionary of `xarray.Dataset`'s; its keys are constructed to refer to compatible groups."
   ]
  },
  {
   "cell_type": "code",
   "execution_count": 10,
   "metadata": {},
   "outputs": [
    {
     "data": {
      "text/plain": [
       "dict_keys(['CMIP.IPSL.IPSL-CM6A-LR.historical.Omon.gn', 'ScenarioMIP.IPSL.IPSL-CM6A-LR.ssp585.Omon.gn'])"
      ]
     },
     "execution_count": 10,
     "metadata": {},
     "output_type": "execute_result"
    }
   ],
   "source": [
    "dset_dict.keys()"
   ]
  },
  {
   "cell_type": "markdown",
   "metadata": {},
   "source": [
    "We can access a particular dataset and make a test plot as follows."
   ]
  },
  {
   "cell_type": "code",
   "execution_count": 23,
   "metadata": {},
   "outputs": [
    {
     "data": {
      "text/plain": [
       "<matplotlib.collections.QuadMesh at 0x2b2dc3e87eb8>"
      ]
     },
     "execution_count": 23,
     "metadata": {},
     "output_type": "execute_result"
    },
    {
     "data": {
      "image/png": "[encoded data removed]",
      "text/plain": [
       "<Figure size 432x288 with 2 Axes>"
      ]
     },
     "metadata": {
      "needs_background": "light"
     },
     "output_type": "display_data"
    }
   ],
   "source": [
    "ds_ipsl_hist = dset_dict['CMIP.IPSL.IPSL-CM6A-LR.historical.Omon.gn']\n",
    "\n",
    "ds_ipsl_hist.intpp.isel(member_id = 0, time=164).plot()"
   ]
  },
  {
   "cell_type": "markdown",
   "metadata": {},
   "source": [
    "### More advanced queries\n",
    "\n",
    "As motivation for diving into more advanced manipulations with `intake-esm`, let's consider the task of getting access to grid information in the `Ofx` table_id."
   ]
  },
  {
   "cell_type": "code",
   "execution_count": 12,
   "metadata": {},
   "outputs": [
    {
     "data": {
      "text/html": [
       "<div>\n",
       "<style scoped>\n",
       "    .dataframe tbody tr th:only-of-type {\n",
       "        vertical-align: middle;\n",
       "    }\n",
       "\n",
       "    .dataframe tbody tr th {\n",
       "        vertical-align: top;\n",
       "    }\n",
       "\n",
       "    .dataframe thead th {\n",
       "        text-align: right;\n",
       "    }\n",
       "</style>\n",
       "<table border=\"1\" class=\"dataframe\">\n",
       "  <thead>\n",
       "    <tr style=\"text-align: right;\">\n",
       "      <th></th>\n",
       "      <th>activity_id</th>\n",
       "      <th>institution_id</th>\n",
       "      <th>source_id</th>\n",
       "      <th>experiment_id</th>\n",
       "      <th>member_id</th>\n",
       "      <th>table_id</th>\n",
       "      <th>variable_id</th>\n",
       "      <th>grid_label</th>\n",
       "      <th>dcpp_init_year</th>\n",
       "      <th>version</th>\n",
       "      <th>time_range</th>\n",
       "      <th>path</th>\n",
       "    </tr>\n",
       "  </thead>\n",
       "  <tbody>\n",
       "    <tr>\n",
       "      <td>23665</td>\n",
       "      <td>CMIP</td>\n",
       "      <td>CNRM-CERFACS</td>\n",
       "      <td>CNRM-ESM2-1</td>\n",
       "      <td>historical</td>\n",
       "      <td>r3i1p1f2</td>\n",
       "      <td>Ofx</td>\n",
       "      <td>areacello</td>\n",
       "      <td>gn</td>\n",
       "      <td>NaN</td>\n",
       "      <td>v20190125</td>\n",
       "      <td>NaN</td>\n",
       "      <td>/glade/collections/cmip/CMIP6/CMIP/CNRM-CERFAC...</td>\n",
       "    </tr>\n",
       "    <tr>\n",
       "      <td>23666</td>\n",
       "      <td>CMIP</td>\n",
       "      <td>CNRM-CERFACS</td>\n",
       "      <td>CNRM-ESM2-1</td>\n",
       "      <td>historical</td>\n",
       "      <td>r3i1p1f2</td>\n",
       "      <td>Ofx</td>\n",
       "      <td>deptho</td>\n",
       "      <td>gn</td>\n",
       "      <td>NaN</td>\n",
       "      <td>v20190125</td>\n",
       "      <td>NaN</td>\n",
       "      <td>/glade/collections/cmip/CMIP6/CMIP/CNRM-CERFAC...</td>\n",
       "    </tr>\n",
       "    <tr>\n",
       "      <td>24506</td>\n",
       "      <td>CMIP</td>\n",
       "      <td>CNRM-CERFACS</td>\n",
       "      <td>CNRM-ESM2-1</td>\n",
       "      <td>historical</td>\n",
       "      <td>r4i1p1f2</td>\n",
       "      <td>Ofx</td>\n",
       "      <td>masscello</td>\n",
       "      <td>gn</td>\n",
       "      <td>NaN</td>\n",
       "      <td>v20190125</td>\n",
       "      <td>NaN</td>\n",
       "      <td>/glade/collections/cmip/CMIP6/CMIP/CNRM-CERFAC...</td>\n",
       "    </tr>\n",
       "    <tr>\n",
       "      <td>24507</td>\n",
       "      <td>CMIP</td>\n",
       "      <td>CNRM-CERFACS</td>\n",
       "      <td>CNRM-ESM2-1</td>\n",
       "      <td>historical</td>\n",
       "      <td>r4i1p1f2</td>\n",
       "      <td>Ofx</td>\n",
       "      <td>hfgeou</td>\n",
       "      <td>gn</td>\n",
       "      <td>NaN</td>\n",
       "      <td>v20190125</td>\n",
       "      <td>NaN</td>\n",
       "      <td>/glade/collections/cmip/CMIP6/CMIP/CNRM-CERFAC...</td>\n",
       "    </tr>\n",
       "    <tr>\n",
       "      <td>24508</td>\n",
       "      <td>CMIP</td>\n",
       "      <td>CNRM-CERFACS</td>\n",
       "      <td>CNRM-ESM2-1</td>\n",
       "      <td>historical</td>\n",
       "      <td>r4i1p1f2</td>\n",
       "      <td>Ofx</td>\n",
       "      <td>basin</td>\n",
       "      <td>gn</td>\n",
       "      <td>NaN</td>\n",
       "      <td>v20190125</td>\n",
       "      <td>NaN</td>\n",
       "      <td>/glade/collections/cmip/CMIP6/CMIP/CNRM-CERFAC...</td>\n",
       "    </tr>\n",
       "    <tr>\n",
       "      <td>...</td>\n",
       "      <td>...</td>\n",
       "      <td>...</td>\n",
       "      <td>...</td>\n",
       "      <td>...</td>\n",
       "      <td>...</td>\n",
       "      <td>...</td>\n",
       "      <td>...</td>\n",
       "      <td>...</td>\n",
       "      <td>...</td>\n",
       "      <td>...</td>\n",
       "      <td>...</td>\n",
       "      <td>...</td>\n",
       "    </tr>\n",
       "    <tr>\n",
       "      <td>628466</td>\n",
       "      <td>ScenarioMIP</td>\n",
       "      <td>CNRM-CERFACS</td>\n",
       "      <td>CNRM-ESM2-1</td>\n",
       "      <td>ssp585</td>\n",
       "      <td>r5i1p1f2</td>\n",
       "      <td>Ofx</td>\n",
       "      <td>areacello</td>\n",
       "      <td>gn</td>\n",
       "      <td>NaN</td>\n",
       "      <td>v20190410</td>\n",
       "      <td>NaN</td>\n",
       "      <td>/glade/collections/cmip/CMIP6/ScenarioMIP/CNRM...</td>\n",
       "    </tr>\n",
       "    <tr>\n",
       "      <td>628521</td>\n",
       "      <td>ScenarioMIP</td>\n",
       "      <td>CNRM-CERFACS</td>\n",
       "      <td>CNRM-ESM2-1</td>\n",
       "      <td>ssp585</td>\n",
       "      <td>r2i1p1f2</td>\n",
       "      <td>Ofx</td>\n",
       "      <td>areacello</td>\n",
       "      <td>gn</td>\n",
       "      <td>NaN</td>\n",
       "      <td>v20190410</td>\n",
       "      <td>NaN</td>\n",
       "      <td>/glade/collections/cmip/CMIP6/ScenarioMIP/CNRM...</td>\n",
       "    </tr>\n",
       "    <tr>\n",
       "      <td>687632</td>\n",
       "      <td>ScenarioMIP</td>\n",
       "      <td>IPSL</td>\n",
       "      <td>IPSL-CM6A-LR</td>\n",
       "      <td>ssp585</td>\n",
       "      <td>r1i1p1f1</td>\n",
       "      <td>Ofx</td>\n",
       "      <td>areacello</td>\n",
       "      <td>gn</td>\n",
       "      <td>NaN</td>\n",
       "      <td>v20190119</td>\n",
       "      <td>NaN</td>\n",
       "      <td>/glade/collections/cmip/CMIP6/ScenarioMIP/IPSL...</td>\n",
       "    </tr>\n",
       "    <tr>\n",
       "      <td>687633</td>\n",
       "      <td>ScenarioMIP</td>\n",
       "      <td>IPSL</td>\n",
       "      <td>IPSL-CM6A-LR</td>\n",
       "      <td>ssp585</td>\n",
       "      <td>r1i1p1f1</td>\n",
       "      <td>Ofx</td>\n",
       "      <td>hfgeou</td>\n",
       "      <td>gn</td>\n",
       "      <td>NaN</td>\n",
       "      <td>v20190119</td>\n",
       "      <td>NaN</td>\n",
       "      <td>/glade/collections/cmip/CMIP6/ScenarioMIP/IPSL...</td>\n",
       "    </tr>\n",
       "    <tr>\n",
       "      <td>687634</td>\n",
       "      <td>ScenarioMIP</td>\n",
       "      <td>IPSL</td>\n",
       "      <td>IPSL-CM6A-LR</td>\n",
       "      <td>ssp585</td>\n",
       "      <td>r1i1p1f1</td>\n",
       "      <td>Ofx</td>\n",
       "      <td>basin</td>\n",
       "      <td>gn</td>\n",
       "      <td>NaN</td>\n",
       "      <td>v20190119</td>\n",
       "      <td>NaN</td>\n",
       "      <td>/glade/collections/cmip/CMIP6/ScenarioMIP/IPSL...</td>\n",
       "    </tr>\n",
       "  </tbody>\n",
       "</table>\n",
       "<p>74 rows × 12 columns</p>\n",
       "</div>"
      ],
      "text/plain": [
       "        activity_id institution_id     source_id experiment_id member_id  \\\n",
       "23665          CMIP   CNRM-CERFACS   CNRM-ESM2-1    historical  r3i1p1f2   \n",
       "23666          CMIP   CNRM-CERFACS   CNRM-ESM2-1    historical  r3i1p1f2   \n",
       "24506          CMIP   CNRM-CERFACS   CNRM-ESM2-1    historical  r4i1p1f2   \n",
       "24507          CMIP   CNRM-CERFACS   CNRM-ESM2-1    historical  r4i1p1f2   \n",
       "24508          CMIP   CNRM-CERFACS   CNRM-ESM2-1    historical  r4i1p1f2   \n",
       "...             ...            ...           ...           ...       ...   \n",
       "628466  ScenarioMIP   CNRM-CERFACS   CNRM-ESM2-1        ssp585  r5i1p1f2   \n",
       "628521  ScenarioMIP   CNRM-CERFACS   CNRM-ESM2-1        ssp585  r2i1p1f2   \n",
       "687632  ScenarioMIP           IPSL  IPSL-CM6A-LR        ssp585  r1i1p1f1   \n",
       "687633  ScenarioMIP           IPSL  IPSL-CM6A-LR        ssp585  r1i1p1f1   \n",
       "687634  ScenarioMIP           IPSL  IPSL-CM6A-LR        ssp585  r1i1p1f1   \n",
       "\n",
       "       table_id variable_id grid_label  dcpp_init_year    version time_range  \\\n",
       "23665       Ofx   areacello         gn             NaN  v20190125        NaN   \n",
       "23666       Ofx      deptho         gn             NaN  v20190125        NaN   \n",
       "24506       Ofx   masscello         gn             NaN  v20190125        NaN   \n",
       "24507       Ofx      hfgeou         gn             NaN  v20190125        NaN   \n",
       "24508       Ofx       basin         gn             NaN  v20190125        NaN   \n",
       "...         ...         ...        ...             ...        ...        ...   \n",
       "628466      Ofx   areacello         gn             NaN  v20190410        NaN   \n",
       "628521      Ofx   areacello         gn             NaN  v20190410        NaN   \n",
       "687632      Ofx   areacello         gn             NaN  v20190119        NaN   \n",
       "687633      Ofx      hfgeou         gn             NaN  v20190119        NaN   \n",
       "687634      Ofx       basin         gn             NaN  v20190119        NaN   \n",
       "\n",
       "                                                     path  \n",
       "23665   /glade/collections/cmip/CMIP6/CMIP/CNRM-CERFAC...  \n",
       "23666   /glade/collections/cmip/CMIP6/CMIP/CNRM-CERFAC...  \n",
       "24506   /glade/collections/cmip/CMIP6/CMIP/CNRM-CERFAC...  \n",
       "24507   /glade/collections/cmip/CMIP6/CMIP/CNRM-CERFAC...  \n",
       "24508   /glade/collections/cmip/CMIP6/CMIP/CNRM-CERFAC...  \n",
       "...                                                   ...  \n",
       "628466  /glade/collections/cmip/CMIP6/ScenarioMIP/CNRM...  \n",
       "628521  /glade/collections/cmip/CMIP6/ScenarioMIP/CNRM...  \n",
       "687632  /glade/collections/cmip/CMIP6/ScenarioMIP/IPSL...  \n",
       "687633  /glade/collections/cmip/CMIP6/ScenarioMIP/IPSL...  \n",
       "687634  /glade/collections/cmip/CMIP6/ScenarioMIP/IPSL...  \n",
       "\n",
       "[74 rows x 12 columns]"
      ]
     },
     "execution_count": 12,
     "metadata": {},
     "output_type": "execute_result"
    }
   ],
   "source": [
    "cat_fx = col.search(experiment_id=['historical', 'ssp585'], source_id=models, table_id='Ofx', grid_label='gn')\n",
    "cat_fx.df"
   ]
  },
  {
   "cell_type": "markdown",
   "metadata": {},
   "source": [
    "We then drop duplicates."
   ]
  },
  {
   "cell_type": "code",
   "execution_count": 13,
   "metadata": {},
   "outputs": [
    {
     "ename": "NameError",
     "evalue": "name 'df' is not defined",
     "output_type": "error",
     "traceback": [
      "\u001b[0;31m---------------------------------------------------------------------------\u001b[0m",
      "\u001b[0;31mNameError\u001b[0m                                 Traceback (most recent call last)",
      "\u001b[0;32m<ipython-input-13-69c94fa74189>\u001b[0m in \u001b[0;36m<module>\u001b[0;34m\u001b[0m\n\u001b[0;32m----> 1\u001b[0;31m \u001b[0mdf\u001b[0m\u001b[0;34m.\u001b[0m\u001b[0mdrop_duplicates\u001b[0m\u001b[0;34m(\u001b[0m\u001b[0msubset\u001b[0m\u001b[0;34m=\u001b[0m\u001b[0;34m[\u001b[0m\u001b[0;34m'source_id'\u001b[0m\u001b[0;34m,\u001b[0m \u001b[0;34m'variable_id'\u001b[0m\u001b[0;34m]\u001b[0m\u001b[0;34m,\u001b[0m \u001b[0minplace\u001b[0m\u001b[0;34m=\u001b[0m\u001b[0;32mTrue\u001b[0m\u001b[0;34m)\u001b[0m\u001b[0;34m\u001b[0m\u001b[0;34m\u001b[0m\u001b[0m\n\u001b[0m",
      "\u001b[0;31mNameError\u001b[0m: name 'df' is not defined"
     ]
    }
   ],
   "source": [
    "df.drop_duplicates(subset=['source_id', 'variable_id'], inplace=True)"
   ]
  },
  {
   "cell_type": "markdown",
   "metadata": {},
   "source": [
    "Now, since we've only retained one ensemble member, we need to eliminate that column. If we omit this step, `intake-esm` will throw an error, complaining that different variables are present for each ensemble member. Setting the `member_id` column to NaN precludes attempts to join along the ensemble dimension.\n",
    "\n",
    "After this final manipulation, we copy the `DataFrame` back to the collection object and proceed with loading the data."
   ]
  },
  {
   "cell_type": "code",
   "execution_count": null,
   "metadata": {},
   "outputs": [],
   "source": [
    "df['member_id'] = np.nan\n",
    "cat_fx.df = df"
   ]
  },
  {
   "cell_type": "code",
   "execution_count": null,
   "metadata": {},
   "outputs": [],
   "source": [
    "fx_dsets = cat_fx.to_dataset_dict(zarr_kwargs={'consolidated': True}, cdf_kwargs={'chunks': {}})"
   ]
  },
  {
   "cell_type": "code",
   "execution_count": null,
   "metadata": {},
   "outputs": [],
   "source": [
    "fx_dsets.keys()"
   ]
  },
  {
   "cell_type": "code",
   "execution_count": null,
   "metadata": {},
   "outputs": [],
   "source": [
    "for key, ds in fx_dsets.items():\n",
    "    print(ds.data_vars)"
   ]
  },
  {
   "cell_type": "markdown",
   "metadata": {},
   "source": [
    "## Demonstrate how spin-up a dask cluster\n",
    "\n",
    "If you expect to require Big Data capabilities, here's how you spin up a [dask](https://dask.org) cluster using [dask-jobqueue](https://dask-jobqueue.readthedocs.io/en/latest/).\n",
    "\n",
    "The syntax is different if on an NCAR machine versus the cloud."
   ]
  },
  {
   "cell_type": "code",
   "execution_count": 14,
   "metadata": {},
   "outputs": [
    {
     "name": "stderr",
     "output_type": "stream",
     "text": [
      "/ncar/usr/jupyterhub/envs/cmip6-201910/lib/python3.7/site-packages/distributed/dashboard/core.py:72: UserWarning: \n",
      "Port 8787 is already in use. \n",
      "Perhaps you already have a cluster running?\n",
      "Hosting the diagnostics dashboard on a random port instead.\n",
      "  warnings.warn(\"\\n\" + msg)\n"
     ]
    },
    {
     "data": {
      "application/vnd.jupyter.widget-view+json": {
       "model_id": "7e20790faf5f42ebb0f510bf3984b340",
       "version_major": 2,
       "version_minor": 0
      },
      "text/plain": [
       "VBox(children=(HTML(value='<h2>NCARCluster</h2>'), HBox(children=(HTML(value='\\n<div>\\n  <style scoped>\\n    .…"
      ]
     },
     "metadata": {},
     "output_type": "display_data"
    }
   ],
   "source": [
    "if util.is_ncar_host():\n",
    "    from ncar_jobqueue import NCARCluster\n",
    "    cluster = NCARCluster(project='UCGD0006')\n",
    "    cluster.adapt(minimum_jobs=1, maximum_jobs=10)\n",
    "else:\n",
    "    from dask_kubernetes import KubeCluster\n",
    "    cluster = KubeCluster()\n",
    "    cluster.adapt(minimum=1, maximum=10)\n",
    "cluster"
   ]
  },
  {
   "cell_type": "code",
   "execution_count": 17,
   "metadata": {},
   "outputs": [
    {
     "data": {
      "text/html": [
       "<table style=\"border: 2px solid white;\">\n",
       "<tr>\n",
       "<td style=\"vertical-align: top; border: 0px solid white\">\n",
       "<h3 style=\"text-align: left;\">Client</h3>\n",
       "<ul style=\"text-align: left; list-style: none; margin: 0; padding: 0;\">\n",
       "  <li><b>Scheduler: </b>tcp://10.148.10.15:43335</li>\n",
       "  <li><b>Dashboard: </b><a href='https://jupyterhub.ucar.edu/ch/user/palevsky/proxy/34679/status' target='_blank'>https://jupyterhub.ucar.edu/ch/user/palevsky/proxy/34679/status</a>\n",
       "</ul>\n",
       "</td>\n",
       "<td style=\"vertical-align: top; border: 0px solid white\">\n",
       "<h3 style=\"text-align: left;\">Cluster</h3>\n",
       "<ul style=\"text-align: left; list-style:none; margin: 0; padding: 0;\">\n",
       "  <li><b>Workers: </b>1</li>\n",
       "  <li><b>Cores: </b>36</li>\n",
       "  <li><b>Memory: </b>109.00 GB</li>\n",
       "</ul>\n",
       "</td>\n",
       "</tr>\n",
       "</table>"
      ],
      "text/plain": [
       "<Client: 'tcp://10.148.10.15:43335' processes=1 threads=36, memory=109.00 GB>"
      ]
     },
     "execution_count": 17,
     "metadata": {},
     "output_type": "execute_result"
    }
   ],
   "source": [
    "from dask.distributed import Client\n",
    "client = Client(cluster) # Connect this local process to remote workers\n",
    "client"
   ]
  },
  {
   "cell_type": "markdown",
   "metadata": {},
   "source": [
    "Check which jobs are running (should be 1 Jupyter and 1-10 dask workers)"
   ]
  },
  {
   "cell_type": "code",
   "execution_count": 16,
   "metadata": {},
   "outputs": [
    {
     "name": "stdout",
     "output_type": "stream",
     "text": [
      "\n",
      "chadmin1.ib0.cheyenne.ucar.edu: \n",
      "                                                            Req'd  Req'd   Elap\n",
      "Job ID          Username Queue    Jobname    SessID NDS TSK Memory Time  S Time\n",
      "--------------- -------- -------- ---------- ------ --- --- ------ ----- - -----\n",
      "8819752.chadmin palevsky shareex  Jupyter      4452   1   1    --  02:00 R 00:52\n",
      "8820482.chadmin palevsky regular  dask-worke  45289   1  36  109gb 01:00 R 00:00\n"
     ]
    }
   ],
   "source": [
    "!qstat -u $USER"
   ]
  },
  {
   "cell_type": "markdown",
   "metadata": {},
   "source": [
    "Close clusters at end of session when done with this notebook"
   ]
  },
  {
   "cell_type": "code",
   "execution_count": null,
   "metadata": {},
   "outputs": [],
   "source": [
    "cluster.close()"
   ]
  }
 ],
 "metadata": {
  "kernelspec": {
   "display_name": "CMIP6 2019.10",
   "language": "python",
   "name": "cmip6-201910"
  },
  "language_info": {
   "codemirror_mode": {
    "name": "ipython",
    "version": 3
   },
   "file_extension": ".py",
   "mimetype": "text/x-python",
   "name": "python",
   "nbconvert_exporter": "python",
   "pygments_lexer": "ipython3",
   "version": "3.7.3"
  }
 },
 "nbformat": 4,
 "nbformat_minor": 4
}
